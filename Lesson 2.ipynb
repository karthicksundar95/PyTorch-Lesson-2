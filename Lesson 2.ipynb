{
 "cells": [
  {
   "cell_type": "markdown",
   "metadata": {},
   "source": [
    "# PyTorch Lesson 2\n",
    "\n",
    "Things we will learn in this lesson:\n",
    "    - math operation for forward propagation\n",
    "    \n",
    "\n",
    "## Forward Propagation\n",
    "\n",
    "**1. How to solve simple math opearations in a neural network forward pass/propagation**\n",
    "\n",
    "Consider the following simple neural network computational graph, we will try to generate the output using pytorch \n",
    "<img src='./forward_prop.png'>\n",
    "\n",
    "This image shows very simple computation between four variables a,b,c&d. The various math operation like addition and multiplication are performed using torch in the below code"
   ]
  },
  {
   "cell_type": "code",
   "execution_count": 6,
   "metadata": {},
   "outputs": [
    {
     "name": "stdout",
     "output_type": "stream",
     "text": [
      "The value of output g is : tensor(8)\n"
     ]
    }
   ],
   "source": [
    "import torch\n",
    "a = torch.tensor(2)\n",
    "b = torch.tensor(-4)\n",
    "c = torch.tensor(-2)\n",
    "d = torch.tensor(2)\n",
    "\n",
    "e = a+b\n",
    "f = c*d\n",
    "\n",
    "g = e*f\n",
    "print('The value of output g is :',g)"
   ]
  },
  {
   "cell_type": "markdown",
   "metadata": {},
   "source": [
    "**Lets now move ahead from simple scalar values to solving a real tensor version of computation**\n",
    "\n",
    "Please find the below computation graph to be replicated using torch code\n",
    "\n",
    "<img src='./forward_prop1.png'>\n"
   ]
  },
  {
   "cell_type": "code",
   "execution_count": 8,
   "metadata": {},
   "outputs": [
    {
     "name": "stdout",
     "output_type": "stream",
     "text": [
      "The value of output g is : tensor(125.0953)\n"
     ]
    }
   ],
   "source": [
    "x = torch.rand(1000,1000)\n",
    "y = torch.rand(1000,1000)\n",
    "z = torch.rand(1000,1000)\n",
    "\n",
    "\n",
    "q = torch.matmul(x, y)\n",
    "f = q*z\n",
    "\n",
    "g = torch.mean(f)\n",
    "print('The value of output g is :',g)"
   ]
  },
  {
   "cell_type": "markdown",
   "metadata": {},
   "source": [
    "## Backward Propagation\n",
    "\n",
    "Derivative is nothing but the amount of change in the function. The derivative is bigger when the function is on a larger slope.\n",
    "Similarly the derivative is smaller or near to zero when the function is on lesser slope\n",
    "\n",
    "#Derivative ~ Gradient ~ Slope\n",
    "\n",
    "Automatic gradient/differentiation is calculated using pytorch **requires_grad** hyperparameter is set to **True**\n",
    "\n",
    "Once the function is defined **.backward()** is initialized to compute gradient\n",
    "\n",
    "\n",
    "* **Lets solve the below network's back propagation, where** *\n",
    "\n",
    "    -all the red items are from 'forward propagation'\n",
    "\n",
    "    -all the blue items are calculated from 'back propagation'(gradient values)\n",
    "\n",
    "<img src='./backward_prop.png'>"
   ]
  },
  {
   "cell_type": "code",
   "execution_count": 9,
   "metadata": {},
   "outputs": [
    {
     "name": "stdout",
     "output_type": "stream",
     "text": [
      "The gradient of x is : tensor(5.)\n",
      "The gradient of y is : tensor(5.)\n",
      "The gradient of z is : tensor(1.)\n"
     ]
    }
   ],
   "source": [
    "x = torch.tensor(4.,requires_grad = True)\n",
    "y = torch.tensor(-3.,requires_grad = True)\n",
    "z = torch.tensor(5.,requires_grad = True)\n",
    "\n",
    "q = dot(xy)\n",
    "f = q*z\n",
    "\n",
    "f.backward()\n",
    "\n",
    "print('The gradient of x is :', x.grad)\n",
    "\n",
    "print('The gradient of y is :', y.grad)\n",
    "\n",
    "print('The gradient of z is :', z.grad)"
   ]
  },
  {
   "cell_type": "markdown",
   "metadata": {},
   "source": [
    "**Lets take one more example for caluclating back propagation for a 1000,1000 tensor and compute gradient on function f**\n",
    "\n",
    "x -> (1000,1000) tensor\n",
    "\n",
    "y -> (1000,1000) tensor\n",
    "\n",
    "z -> (1000,1000) tensor\n",
    "\n",
    "q = x+y\n",
    "g = q*z\n",
    "\n",
    "f = meand(g)"
   ]
  },
  {
   "cell_type": "code",
   "execution_count": 13,
   "metadata": {},
   "outputs": [
    {
     "name": "stdout",
     "output_type": "stream",
     "text": [
      "gradient of x: tensor([[0.0002, 0.0003, 0.0003,  ..., 0.0003, 0.0003, 0.0003],\n",
      "        [0.0002, 0.0003, 0.0002,  ..., 0.0002, 0.0003, 0.0003],\n",
      "        [0.0002, 0.0003, 0.0002,  ..., 0.0003, 0.0003, 0.0003],\n",
      "        ...,\n",
      "        [0.0003, 0.0003, 0.0003,  ..., 0.0003, 0.0003, 0.0003],\n",
      "        [0.0002, 0.0002, 0.0002,  ..., 0.0002, 0.0002, 0.0002],\n",
      "        [0.0002, 0.0002, 0.0002,  ..., 0.0002, 0.0003, 0.0002]])\n",
      "gradient of y: tensor([[0.0003, 0.0003, 0.0003,  ..., 0.0002, 0.0002, 0.0003],\n",
      "        [0.0003, 0.0003, 0.0003,  ..., 0.0003, 0.0003, 0.0003],\n",
      "        [0.0003, 0.0002, 0.0003,  ..., 0.0002, 0.0002, 0.0002],\n",
      "        ...,\n",
      "        [0.0003, 0.0002, 0.0003,  ..., 0.0003, 0.0002, 0.0003],\n",
      "        [0.0003, 0.0003, 0.0003,  ..., 0.0003, 0.0003, 0.0003],\n",
      "        [0.0002, 0.0002, 0.0002,  ..., 0.0002, 0.0002, 0.0002]])\n",
      "gradient of z: tensor([[0.0003, 0.0003, 0.0002,  ..., 0.0003, 0.0003, 0.0003],\n",
      "        [0.0003, 0.0003, 0.0002,  ..., 0.0002, 0.0003, 0.0003],\n",
      "        [0.0002, 0.0002, 0.0002,  ..., 0.0002, 0.0002, 0.0002],\n",
      "        ...,\n",
      "        [0.0003, 0.0002, 0.0002,  ..., 0.0002, 0.0002, 0.0002],\n",
      "        [0.0003, 0.0003, 0.0002,  ..., 0.0003, 0.0003, 0.0003],\n",
      "        [0.0002, 0.0002, 0.0002,  ..., 0.0002, 0.0002, 0.0002]])\n"
     ]
    }
   ],
   "source": [
    "x = torch.rand(1000,1000, requires_grad=True)\n",
    "y = torch.rand(1000,1000, requires_grad=True)\n",
    "z = torch.rand(1000,1000, requires_grad=True)\n",
    "\n",
    "q = torch.matmul(x,y)\n",
    "g = q*z\n",
    "f = torch.mean(g)\n",
    "\n",
    "f.backward()\n",
    "\n",
    "print('gradient of x:', x.grad)\n",
    "\n",
    "print('gradient of y:', y.grad)\n",
    "\n",
    "print('gradient of z:', z.grad)"
   ]
  },
  {
   "cell_type": "markdown",
   "metadata": {},
   "source": [
    "## Lets build a simple ANN using torch\n",
    "\n",
    "Combining all the previously learnt knowledge we are going to build a simple neural network using torch\n",
    "\n",
    "Input Layer - 1 x 10 (10 neuron units)\n",
    "\n",
    "Hidden layer 1 - 10 x 20 (20 hidden units)\n",
    "\n",
    "Hidden layer 2 - 20 x 20 (20 hidden units)\n",
    "\n",
    "Output layer - 1 x 4 (4 output units)"
   ]
  },
  {
   "cell_type": "code",
   "execution_count": 23,
   "metadata": {},
   "outputs": [
    {
     "name": "stdout",
     "output_type": "stream",
     "text": [
      "tensor([212.3607, 147.6695, 195.1527, 210.7309])\n"
     ]
    }
   ],
   "source": [
    "input_layer = torch.rand(10)\n",
    "\n",
    "w1 = torch.rand(10,20)\n",
    "w2 = torch.rand(20,20)\n",
    "w3 = torch.rand(20,4)\n",
    "\n",
    "hidden_1 = torch.matmul(input_layer, w1)\n",
    "hidden_2 = torch.matmul(hidden_1, w2)\n",
    "\n",
    "output = torch.matmul(hidden_2, w3)\n",
    "print(output)"
   ]
  },
  {
   "cell_type": "markdown",
   "metadata": {},
   "source": [
    "## Now lets try using PyTorch Style of building ANN"
   ]
  },
  {
   "cell_type": "code",
   "execution_count": 28,
   "metadata": {},
   "outputs": [],
   "source": [
    "import torch \n",
    "import torch.nn as nn\n",
    "\n",
    "##this class is created as a inherited class from nn.Module\n",
    "class Net(nn.Module):\n",
    "    def __init__(self):\n",
    "        super(Net, self).__init__()\n",
    "        self.fc1 = nn.Linear(10,20)\n",
    "        self.fc2 = nn.Linear(20,20)\n",
    "        self.fc3 = nn.Linear(20,4)\n",
    "    def Forward(self,x):\n",
    "        h1 = self.fc1(x)\n",
    "        h2 = self.fc2(h1)\n",
    "        output = self.fc3(h2)\n",
    "        return output"
   ]
  },
  {
   "cell_type": "code",
   "execution_count": 31,
   "metadata": {},
   "outputs": [
    {
     "name": "stdout",
     "output_type": "stream",
     "text": [
      "Output of the ANN: tensor([-0.0052, -0.0666, -0.1009,  0.0227], grad_fn=<AddBackward0>)\n"
     ]
    }
   ],
   "source": [
    "net = Net()\n",
    "input_layer = torch.rand(10)\n",
    "print(\"Output of the ANN:\",net.Forward(input_layer))"
   ]
  },
  {
   "cell_type": "code",
   "execution_count": null,
   "metadata": {
    "collapsed": true
   },
   "outputs": [],
   "source": []
  }
 ],
 "metadata": {
  "kernelspec": {
   "display_name": "Python 3",
   "language": "python",
   "name": "python3"
  },
  "language_info": {
   "codemirror_mode": {
    "name": "ipython",
    "version": 3
   },
   "file_extension": ".py",
   "mimetype": "text/x-python",
   "name": "python",
   "nbconvert_exporter": "python",
   "pygments_lexer": "ipython3",
   "version": "3.6.1"
  }
 },
 "nbformat": 4,
 "nbformat_minor": 2
}
